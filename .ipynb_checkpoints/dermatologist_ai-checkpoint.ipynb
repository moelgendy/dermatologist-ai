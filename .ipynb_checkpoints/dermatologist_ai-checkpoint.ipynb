{
 "cells": [
  {
   "cell_type": "markdown",
   "metadata": {},
   "source": [
    "# Dermatologist AI Mini-project\n",
    "\n",
    "In this mini-project, we are going to classify images of skin lesions into melanoma, nevus and seborrheic keratosis. We do this by using [ResNet50](https://arxiv.org/abs/1512.03385) model pretrained on [ImageNet](http://www.image-net.org/)."
   ]
  },
  {
   "cell_type": "markdown",
   "metadata": {},
   "source": [
    "## Loading the dataset\n",
    "\n",
    "We load the training, validation and testing sets and resize the images to 224×224. Then, we preprocess the images for ResNet50."
   ]
  },
  {
   "cell_type": "code",
   "execution_count": 1,
   "metadata": {
    "scrolled": true
   },
   "outputs": [
    {
     "name": "stderr",
     "output_type": "stream",
     "text": [
      "Using TensorFlow backend.\n"
     ]
    }
   ],
   "source": [
    "from sklearn.datasets import load_files\n",
    "from keras.utils import np_utils\n",
    "import numpy as np\n",
    "\n",
    "def load_dataset(path):\n",
    "    data = load_files(path)\n",
    "    paths = np.array(data['filenames'])\n",
    "    targets = np_utils.to_categorical(np.array(data['target']))\n",
    "    return paths, targets"
   ]
  },
  {
   "cell_type": "code",
   "execution_count": 2,
   "metadata": {},
   "outputs": [],
   "source": [
    "train_files, train_targets = load_dataset('data/train')\n",
    "valid_files, valid_targets = load_dataset('data/valid')\n",
    "test_files, test_targets = load_dataset('data/test')"
   ]
  },
  {
   "cell_type": "code",
   "execution_count": 3,
   "metadata": {},
   "outputs": [
    {
     "name": "stdout",
     "output_type": "stream",
     "text": [
      "There are 3 classes: melanoma, nevus, seborrheic_keratosis.\n",
      "There are 2000 training images.\n",
      "There are 150 validation images.\n",
      "There are 600 testing images.\n"
     ]
    }
   ],
   "source": [
    "from os import listdir\n",
    "\n",
    "diseases = sorted(listdir('data/train'))\n",
    "\n",
    "print('There are {} classes: {}.'.format(len(diseases), ', '.join(diseases)))\n",
    "print('There are {} training images.'.format(len(train_files)))\n",
    "print('There are {} validation images.'.format(len(valid_files)))\n",
    "print('There are {} testing images.'.format(len(test_files)))"
   ]
  },
  {
   "cell_type": "code",
   "execution_count": 4,
   "metadata": {},
   "outputs": [],
   "source": [
    "from keras.preprocessing import image\n",
    "from tqdm import tqdm_notebook\n",
    "\n",
    "def get_tensor(path):\n",
    "    img = image.load_img(path, target_size=(224, 224))\n",
    "    return np.expand_dims(image.img_to_array(img), axis=0)\n",
    "\n",
    "def get_tensors(paths):\n",
    "    return np.vstack([get_tensor(path) for path in tqdm_notebook(paths)])"
   ]
  },
  {
   "cell_type": "code",
   "execution_count": 5,
   "metadata": {},
   "outputs": [
    {
     "data": {
      "application/vnd.jupyter.widget-view+json": {
       "model_id": "edb8f70e71ca44abadd756e909eb3de0",
       "version_major": 2,
       "version_minor": 0
      },
      "text/html": [
       "<p>Failed to display Jupyter Widget of type <code>HBox</code>.</p>\n",
       "<p>\n",
       "  If you're reading this message in Jupyter Notebook or JupyterLab, it may mean\n",
       "  that the widgets JavaScript is still loading. If this message persists, it\n",
       "  likely means that the widgets JavaScript library is either not installed or\n",
       "  not enabled. See the <a href=\"https://ipywidgets.readthedocs.io/en/stable/user_install.html\">Jupyter\n",
       "  Widgets Documentation</a> for setup instructions.\n",
       "</p>\n",
       "<p>\n",
       "  If you're reading this message in another notebook frontend (for example, a static\n",
       "  rendering on GitHub or <a href=\"https://nbviewer.jupyter.org/\">NBViewer</a>),\n",
       "  it may mean that your frontend doesn't currently support widgets.\n",
       "</p>\n"
      ],
      "text/plain": [
       "HBox(children=(IntProgress(value=0, max=2000), HTML(value='')))"
      ]
     },
     "metadata": {},
     "output_type": "display_data"
    },
    {
     "name": "stdout",
     "output_type": "stream",
     "text": [
      "\n"
     ]
    },
    {
     "data": {
      "application/vnd.jupyter.widget-view+json": {
       "model_id": "32341301460b4d1bac244de870695354",
       "version_major": 2,
       "version_minor": 0
      },
      "text/html": [
       "<p>Failed to display Jupyter Widget of type <code>HBox</code>.</p>\n",
       "<p>\n",
       "  If you're reading this message in Jupyter Notebook or JupyterLab, it may mean\n",
       "  that the widgets JavaScript is still loading. If this message persists, it\n",
       "  likely means that the widgets JavaScript library is either not installed or\n",
       "  not enabled. See the <a href=\"https://ipywidgets.readthedocs.io/en/stable/user_install.html\">Jupyter\n",
       "  Widgets Documentation</a> for setup instructions.\n",
       "</p>\n",
       "<p>\n",
       "  If you're reading this message in another notebook frontend (for example, a static\n",
       "  rendering on GitHub or <a href=\"https://nbviewer.jupyter.org/\">NBViewer</a>),\n",
       "  it may mean that your frontend doesn't currently support widgets.\n",
       "</p>\n"
      ],
      "text/plain": [
       "HBox(children=(IntProgress(value=0, max=150), HTML(value='')))"
      ]
     },
     "metadata": {},
     "output_type": "display_data"
    },
    {
     "name": "stdout",
     "output_type": "stream",
     "text": [
      "\n"
     ]
    },
    {
     "data": {
      "application/vnd.jupyter.widget-view+json": {
       "model_id": "63ef09d63c0c48bca1c49626f1280ee5",
       "version_major": 2,
       "version_minor": 0
      },
      "text/html": [
       "<p>Failed to display Jupyter Widget of type <code>HBox</code>.</p>\n",
       "<p>\n",
       "  If you're reading this message in Jupyter Notebook or JupyterLab, it may mean\n",
       "  that the widgets JavaScript is still loading. If this message persists, it\n",
       "  likely means that the widgets JavaScript library is either not installed or\n",
       "  not enabled. See the <a href=\"https://ipywidgets.readthedocs.io/en/stable/user_install.html\">Jupyter\n",
       "  Widgets Documentation</a> for setup instructions.\n",
       "</p>\n",
       "<p>\n",
       "  If you're reading this message in another notebook frontend (for example, a static\n",
       "  rendering on GitHub or <a href=\"https://nbviewer.jupyter.org/\">NBViewer</a>),\n",
       "  it may mean that your frontend doesn't currently support widgets.\n",
       "</p>\n"
      ],
      "text/plain": [
       "HBox(children=(IntProgress(value=0, max=600), HTML(value='')))"
      ]
     },
     "metadata": {},
     "output_type": "display_data"
    },
    {
     "name": "stdout",
     "output_type": "stream",
     "text": [
      "\n"
     ]
    }
   ],
   "source": [
    "from keras.applications.resnet50 import preprocess_input\n",
    "\n",
    "train_tensors = preprocess_input(get_tensors(train_files))\n",
    "valid_tensors = preprocess_input(get_tensors(valid_files))\n",
    "test_tensors = preprocess_input(get_tensors(test_files))"
   ]
  },
  {
   "cell_type": "markdown",
   "metadata": {},
   "source": [
    "## Building the model\n",
    "Since we are using transfer learning, we pass all the images into the ResNet50 with the top layers chopped off and weights pretrained on ImageNet. Then, we train these bottleneck features in a neural network with a Global Average Pooling layer and 3 fully connected layers. The architecture is depicted below.\n",
    "\n",
    "![alt Transfer learning architecture](images/derm_ai_arch.png)"
   ]
  },
  {
   "cell_type": "code",
   "execution_count": 6,
   "metadata": {},
   "outputs": [],
   "source": [
    "from keras.applications.resnet50 import ResNet50\n",
    "\n",
    "\n",
    "resnet50 = ResNet50(include_top=False, input_shape=(224, 224, 3))"
   ]
  },
  {
   "cell_type": "code",
   "execution_count": 7,
   "metadata": {},
   "outputs": [],
   "source": [
    "train_bottleneck = resnet50.predict(train_tensors)\n",
    "valid_bottleneck = resnet50.predict(valid_tensors)\n",
    "test_bottleneck = resnet50.predict(test_tensors)"
   ]
  },
  {
   "cell_type": "code",
   "execution_count": 8,
   "metadata": {},
   "outputs": [
    {
     "name": "stdout",
     "output_type": "stream",
     "text": [
      "_________________________________________________________________\n",
      "Layer (type)                 Output Shape              Param #   \n",
      "=================================================================\n",
      "global_average_pooling2d_1 ( (None, 2048)              0         \n",
      "_________________________________________________________________\n",
      "dropout_1 (Dropout)          (None, 2048)              0         \n",
      "_________________________________________________________________\n",
      "dense_1 (Dense)              (None, 2048)              4196352   \n",
      "_________________________________________________________________\n",
      "dropout_2 (Dropout)          (None, 2048)              0         \n",
      "_________________________________________________________________\n",
      "dense_2 (Dense)              (None, 2048)              4196352   \n",
      "_________________________________________________________________\n",
      "dense_3 (Dense)              (None, 3)                 6147      \n",
      "=================================================================\n",
      "Total params: 8,398,851.0\n",
      "Trainable params: 8,398,851.0\n",
      "Non-trainable params: 0.0\n",
      "_________________________________________________________________\n"
     ]
    }
   ],
   "source": [
    "from keras.layers import GlobalAveragePooling2D, Dense, Dropout\n",
    "from keras.models import Sequential\n",
    "\n",
    "model = Sequential()\n",
    "model.add(GlobalAveragePooling2D(input_shape=train_bottleneck.shape[1:]))\n",
    "model.add(Dropout(0.5))\n",
    "model.add(Dense(2048, activation='tanh'))\n",
    "model.add(Dropout(0.5))\n",
    "model.add(Dense(2048, activation='tanh'))\n",
    "model.add(Dense(3, activation='softmax'))\n",
    "model.summary()"
   ]
  },
  {
   "cell_type": "markdown",
   "metadata": {},
   "source": [
    "## Training the model\n",
    "We train the model by using stochastic gradient descent with momentum for 100 epochs. Hyperparameter tuning is done by trying different configurations on the number of nodes in the first and second dense layers and the learning rate and looking at the loss curve."
   ]
  },
  {
   "cell_type": "code",
   "execution_count": 9,
   "metadata": {},
   "outputs": [],
   "source": [
    "from keras import optimizers\n",
    "\n",
    "model.compile(loss='categorical_crossentropy', metrics=['accuracy'],\n",
    "              optimizer=optimizers.SGD(lr=0.0001, momentum=0.9, decay=1e-6))"
   ]
  },
  {
   "cell_type": "code",
   "execution_count": 10,
   "metadata": {},
   "outputs": [
    {
     "name": "stdout",
     "output_type": "stream",
     "text": [
      "Train on 2000 samples, validate on 150 samples\n",
      "Epoch 1/100\n",
      "2000/2000 [==============================] - 1s - loss: 0.9975 - acc: 0.5915 - val_loss: 1.2050 - val_acc: 0.5200\n",
      "Epoch 2/100\n",
      "2000/2000 [==============================] - 0s - loss: 0.8885 - acc: 0.6435 - val_loss: 1.1460 - val_acc: 0.5200\n",
      "Epoch 3/100\n",
      "2000/2000 [==============================] - 0s - loss: 0.8342 - acc: 0.6570 - val_loss: 1.0136 - val_acc: 0.5600\n",
      "Epoch 4/100\n",
      "2000/2000 [==============================] - 0s - loss: 0.7983 - acc: 0.6735 - val_loss: 1.0404 - val_acc: 0.5533\n",
      "Epoch 5/100\n",
      "2000/2000 [==============================] - 0s - loss: 0.7877 - acc: 0.6720 - val_loss: 0.9934 - val_acc: 0.5600\n",
      "Epoch 6/100\n",
      "2000/2000 [==============================] - 0s - loss: 0.7715 - acc: 0.6880 - val_loss: 0.9986 - val_acc: 0.5800\n",
      "Epoch 7/100\n",
      "2000/2000 [==============================] - 0s - loss: 0.7911 - acc: 0.6710 - val_loss: 1.0291 - val_acc: 0.5533\n",
      "Epoch 8/100\n",
      "2000/2000 [==============================] - 0s - loss: 0.7537 - acc: 0.6890 - val_loss: 0.9348 - val_acc: 0.5933\n",
      "Epoch 9/100\n",
      "2000/2000 [==============================] - 0s - loss: 0.7621 - acc: 0.6750 - val_loss: 1.0128 - val_acc: 0.5867\n",
      "Epoch 10/100\n",
      "2000/2000 [==============================] - 0s - loss: 0.7308 - acc: 0.6900 - val_loss: 0.9639 - val_acc: 0.6000\n",
      "Epoch 11/100\n",
      "2000/2000 [==============================] - 0s - loss: 0.7594 - acc: 0.6695 - val_loss: 0.9422 - val_acc: 0.6200\n",
      "Epoch 12/100\n",
      "2000/2000 [==============================] - 0s - loss: 0.7268 - acc: 0.6985 - val_loss: 0.9076 - val_acc: 0.6467\n",
      "Epoch 13/100\n",
      "2000/2000 [==============================] - 0s - loss: 0.7175 - acc: 0.6980 - val_loss: 0.9945 - val_acc: 0.6000\n",
      "Epoch 14/100\n",
      "2000/2000 [==============================] - 0s - loss: 0.7119 - acc: 0.7085 - val_loss: 0.9400 - val_acc: 0.6333\n",
      "Epoch 15/100\n",
      "2000/2000 [==============================] - 0s - loss: 0.7006 - acc: 0.7000 - val_loss: 0.9140 - val_acc: 0.6533\n",
      "Epoch 16/100\n",
      "2000/2000 [==============================] - 0s - loss: 0.7015 - acc: 0.6945 - val_loss: 0.9472 - val_acc: 0.6267\n",
      "Epoch 17/100\n",
      "2000/2000 [==============================] - 0s - loss: 0.7116 - acc: 0.6915 - val_loss: 0.9190 - val_acc: 0.6600\n",
      "Epoch 18/100\n",
      "2000/2000 [==============================] - 0s - loss: 0.6994 - acc: 0.7125 - val_loss: 0.9095 - val_acc: 0.6733\n",
      "Epoch 19/100\n",
      "2000/2000 [==============================] - 0s - loss: 0.6866 - acc: 0.7080 - val_loss: 0.9114 - val_acc: 0.6667\n",
      "Epoch 20/100\n",
      "2000/2000 [==============================] - 0s - loss: 0.7036 - acc: 0.7125 - val_loss: 0.9134 - val_acc: 0.6667\n",
      "Epoch 21/100\n",
      "2000/2000 [==============================] - 0s - loss: 0.7023 - acc: 0.7115 - val_loss: 0.8613 - val_acc: 0.7000\n",
      "Epoch 22/100\n",
      "2000/2000 [==============================] - 0s - loss: 0.6832 - acc: 0.7130 - val_loss: 0.8799 - val_acc: 0.6800\n",
      "Epoch 23/100\n",
      "2000/2000 [==============================] - 0s - loss: 0.6762 - acc: 0.7025 - val_loss: 0.8305 - val_acc: 0.6867\n",
      "Epoch 24/100\n",
      "2000/2000 [==============================] - 0s - loss: 0.6961 - acc: 0.7080 - val_loss: 0.8886 - val_acc: 0.6800\n",
      "Epoch 25/100\n",
      "2000/2000 [==============================] - 0s - loss: 0.6726 - acc: 0.7135 - val_loss: 0.9127 - val_acc: 0.6600\n",
      "Epoch 26/100\n",
      "2000/2000 [==============================] - 0s - loss: 0.6694 - acc: 0.7160 - val_loss: 0.8865 - val_acc: 0.6867\n",
      "Epoch 27/100\n",
      "2000/2000 [==============================] - 0s - loss: 0.6846 - acc: 0.7010 - val_loss: 0.8508 - val_acc: 0.7000\n",
      "Epoch 28/100\n",
      "2000/2000 [==============================] - 0s - loss: 0.6743 - acc: 0.7130 - val_loss: 0.8575 - val_acc: 0.6800\n",
      "Epoch 29/100\n",
      "2000/2000 [==============================] - 0s - loss: 0.6942 - acc: 0.6970 - val_loss: 0.8963 - val_acc: 0.6667\n",
      "Epoch 30/100\n",
      "2000/2000 [==============================] - 0s - loss: 0.6786 - acc: 0.7080 - val_loss: 0.8603 - val_acc: 0.6800\n",
      "Epoch 31/100\n",
      "2000/2000 [==============================] - 0s - loss: 0.6845 - acc: 0.7050 - val_loss: 0.8639 - val_acc: 0.6867\n",
      "Epoch 32/100\n",
      "2000/2000 [==============================] - 0s - loss: 0.6560 - acc: 0.7245 - val_loss: 0.8654 - val_acc: 0.6800\n",
      "Epoch 33/100\n",
      "2000/2000 [==============================] - 0s - loss: 0.6764 - acc: 0.7195 - val_loss: 0.8852 - val_acc: 0.6600\n",
      "Epoch 34/100\n",
      "2000/2000 [==============================] - 0s - loss: 0.6792 - acc: 0.7105 - val_loss: 0.8433 - val_acc: 0.6867\n",
      "Epoch 35/100\n",
      "2000/2000 [==============================] - 0s - loss: 0.6623 - acc: 0.7120 - val_loss: 0.8491 - val_acc: 0.6867\n",
      "Epoch 36/100\n",
      "2000/2000 [==============================] - 0s - loss: 0.6481 - acc: 0.7240 - val_loss: 0.8740 - val_acc: 0.6867\n",
      "Epoch 37/100\n",
      "2000/2000 [==============================] - 0s - loss: 0.6515 - acc: 0.7350 - val_loss: 0.8837 - val_acc: 0.6667\n",
      "Epoch 38/100\n",
      "2000/2000 [==============================] - 0s - loss: 0.6477 - acc: 0.7245 - val_loss: 0.8223 - val_acc: 0.7000\n",
      "Epoch 39/100\n",
      "2000/2000 [==============================] - 0s - loss: 0.6511 - acc: 0.7175 - val_loss: 0.8366 - val_acc: 0.7000\n",
      "Epoch 40/100\n",
      "2000/2000 [==============================] - 0s - loss: 0.6577 - acc: 0.7240 - val_loss: 0.8274 - val_acc: 0.7000\n",
      "Epoch 41/100\n",
      "2000/2000 [==============================] - 0s - loss: 0.6718 - acc: 0.7095 - val_loss: 0.8467 - val_acc: 0.6867\n",
      "Epoch 42/100\n",
      "2000/2000 [==============================] - 0s - loss: 0.6535 - acc: 0.7325 - val_loss: 0.8223 - val_acc: 0.6933\n",
      "Epoch 43/100\n",
      "2000/2000 [==============================] - 0s - loss: 0.6522 - acc: 0.7180 - val_loss: 0.8266 - val_acc: 0.6933\n",
      "Epoch 44/100\n",
      "2000/2000 [==============================] - 0s - loss: 0.6717 - acc: 0.7245 - val_loss: 0.8298 - val_acc: 0.6933\n",
      "Epoch 45/100\n",
      "2000/2000 [==============================] - 0s - loss: 0.6466 - acc: 0.7225 - val_loss: 0.8027 - val_acc: 0.6933\n",
      "Epoch 46/100\n",
      "2000/2000 [==============================] - 0s - loss: 0.6461 - acc: 0.7310 - val_loss: 0.8352 - val_acc: 0.6800\n",
      "Epoch 47/100\n",
      "2000/2000 [==============================] - 0s - loss: 0.6338 - acc: 0.7295 - val_loss: 0.8332 - val_acc: 0.6867\n",
      "Epoch 48/100\n",
      "2000/2000 [==============================] - 0s - loss: 0.6431 - acc: 0.7265 - val_loss: 0.8350 - val_acc: 0.6933\n",
      "Epoch 49/100\n",
      "2000/2000 [==============================] - 0s - loss: 0.6384 - acc: 0.7250 - val_loss: 0.8281 - val_acc: 0.6867\n",
      "Epoch 50/100\n",
      "2000/2000 [==============================] - 0s - loss: 0.6582 - acc: 0.7185 - val_loss: 0.8318 - val_acc: 0.6933\n",
      "Epoch 51/100\n",
      "2000/2000 [==============================] - 0s - loss: 0.6332 - acc: 0.7315 - val_loss: 0.8455 - val_acc: 0.6933\n",
      "Epoch 52/100\n",
      "2000/2000 [==============================] - 0s - loss: 0.6428 - acc: 0.7335 - val_loss: 0.8002 - val_acc: 0.6933\n",
      "Epoch 53/100\n",
      "2000/2000 [==============================] - 0s - loss: 0.6495 - acc: 0.7175 - val_loss: 0.8455 - val_acc: 0.6800\n",
      "Epoch 54/100\n",
      "2000/2000 [==============================] - 0s - loss: 0.6450 - acc: 0.7250 - val_loss: 0.8560 - val_acc: 0.6867\n",
      "Epoch 55/100\n",
      "2000/2000 [==============================] - 0s - loss: 0.6301 - acc: 0.7385 - val_loss: 0.8245 - val_acc: 0.6933\n",
      "Epoch 56/100\n",
      "2000/2000 [==============================] - 0s - loss: 0.6489 - acc: 0.7305 - val_loss: 0.8341 - val_acc: 0.7000\n",
      "Epoch 57/100\n",
      "2000/2000 [==============================] - 0s - loss: 0.6337 - acc: 0.7350 - val_loss: 0.8437 - val_acc: 0.6867\n",
      "Epoch 58/100\n",
      "2000/2000 [==============================] - 0s - loss: 0.6333 - acc: 0.7375 - val_loss: 0.8077 - val_acc: 0.7000\n",
      "Epoch 59/100\n",
      "2000/2000 [==============================] - 0s - loss: 0.6334 - acc: 0.7215 - val_loss: 0.8723 - val_acc: 0.6800\n",
      "Epoch 60/100\n",
      "2000/2000 [==============================] - 0s - loss: 0.6487 - acc: 0.7255 - val_loss: 0.8118 - val_acc: 0.7000\n",
      "Epoch 61/100\n",
      "2000/2000 [==============================] - 0s - loss: 0.6340 - acc: 0.7360 - val_loss: 0.8082 - val_acc: 0.7067\n",
      "Epoch 62/100\n",
      "2000/2000 [==============================] - 0s - loss: 0.6312 - acc: 0.7270 - val_loss: 0.8482 - val_acc: 0.6800\n",
      "Epoch 63/100\n",
      "2000/2000 [==============================] - 0s - loss: 0.6220 - acc: 0.7355 - val_loss: 0.8197 - val_acc: 0.7067\n",
      "Epoch 64/100\n",
      "2000/2000 [==============================] - 0s - loss: 0.6236 - acc: 0.7395 - val_loss: 0.8619 - val_acc: 0.6800\n",
      "Epoch 65/100\n"
     ]
    },
    {
     "name": "stdout",
     "output_type": "stream",
     "text": [
      "2000/2000 [==============================] - 0s - loss: 0.6384 - acc: 0.7290 - val_loss: 0.8308 - val_acc: 0.6933\n",
      "Epoch 66/100\n",
      "2000/2000 [==============================] - 0s - loss: 0.6433 - acc: 0.7255 - val_loss: 0.8347 - val_acc: 0.6933\n",
      "Epoch 67/100\n",
      "2000/2000 [==============================] - 0s - loss: 0.6121 - acc: 0.7410 - val_loss: 0.8226 - val_acc: 0.7000\n",
      "Epoch 68/100\n",
      "2000/2000 [==============================] - 0s - loss: 0.6286 - acc: 0.7305 - val_loss: 0.8175 - val_acc: 0.6933\n",
      "Epoch 69/100\n",
      "2000/2000 [==============================] - 0s - loss: 0.6184 - acc: 0.7315 - val_loss: 0.8473 - val_acc: 0.6933\n",
      "Epoch 70/100\n",
      "2000/2000 [==============================] - 0s - loss: 0.6133 - acc: 0.7355 - val_loss: 0.8511 - val_acc: 0.7000\n",
      "Epoch 71/100\n",
      "2000/2000 [==============================] - 0s - loss: 0.6218 - acc: 0.7385 - val_loss: 0.8384 - val_acc: 0.7067\n",
      "Epoch 72/100\n",
      "2000/2000 [==============================] - 0s - loss: 0.6354 - acc: 0.7280 - val_loss: 0.8272 - val_acc: 0.7000\n",
      "Epoch 73/100\n",
      "2000/2000 [==============================] - 0s - loss: 0.6104 - acc: 0.7475 - val_loss: 0.8477 - val_acc: 0.7000\n",
      "Epoch 74/100\n",
      "2000/2000 [==============================] - 0s - loss: 0.6353 - acc: 0.7285 - val_loss: 0.8200 - val_acc: 0.7133\n",
      "Epoch 75/100\n",
      "2000/2000 [==============================] - 0s - loss: 0.6274 - acc: 0.7275 - val_loss: 0.8231 - val_acc: 0.7000\n",
      "Epoch 76/100\n",
      "2000/2000 [==============================] - 0s - loss: 0.6013 - acc: 0.7440 - val_loss: 0.7992 - val_acc: 0.7067\n",
      "Epoch 77/100\n",
      "2000/2000 [==============================] - 0s - loss: 0.6345 - acc: 0.7305 - val_loss: 0.8261 - val_acc: 0.7067\n",
      "Epoch 78/100\n",
      "2000/2000 [==============================] - 0s - loss: 0.6060 - acc: 0.7445 - val_loss: 0.8296 - val_acc: 0.7067\n",
      "Epoch 79/100\n",
      "2000/2000 [==============================] - 0s - loss: 0.6237 - acc: 0.7445 - val_loss: 0.8184 - val_acc: 0.7067\n",
      "Epoch 80/100\n",
      "2000/2000 [==============================] - 0s - loss: 0.6228 - acc: 0.7405 - val_loss: 0.8256 - val_acc: 0.7133\n",
      "Epoch 81/100\n",
      "2000/2000 [==============================] - 0s - loss: 0.6257 - acc: 0.7400 - val_loss: 0.8138 - val_acc: 0.7200\n",
      "Epoch 82/100\n",
      "2000/2000 [==============================] - 0s - loss: 0.6284 - acc: 0.7285 - val_loss: 0.7876 - val_acc: 0.7067\n",
      "Epoch 83/100\n",
      "2000/2000 [==============================] - 0s - loss: 0.6100 - acc: 0.7400 - val_loss: 0.8356 - val_acc: 0.6933\n",
      "Epoch 84/100\n",
      "2000/2000 [==============================] - 0s - loss: 0.6239 - acc: 0.7440 - val_loss: 0.8412 - val_acc: 0.7000\n",
      "Epoch 85/100\n",
      "2000/2000 [==============================] - 0s - loss: 0.6123 - acc: 0.7475 - val_loss: 0.8298 - val_acc: 0.7133\n",
      "Epoch 86/100\n",
      "2000/2000 [==============================] - 0s - loss: 0.6041 - acc: 0.7420 - val_loss: 0.8335 - val_acc: 0.7000\n",
      "Epoch 87/100\n",
      "2000/2000 [==============================] - 0s - loss: 0.6059 - acc: 0.7505 - val_loss: 0.8143 - val_acc: 0.7000\n",
      "Epoch 88/100\n",
      "2000/2000 [==============================] - 0s - loss: 0.6060 - acc: 0.7555 - val_loss: 0.8341 - val_acc: 0.7000\n",
      "Epoch 89/100\n",
      "2000/2000 [==============================] - 0s - loss: 0.6327 - acc: 0.7255 - val_loss: 0.7985 - val_acc: 0.7133\n",
      "Epoch 90/100\n",
      "2000/2000 [==============================] - 0s - loss: 0.6089 - acc: 0.7420 - val_loss: 0.8465 - val_acc: 0.7000\n",
      "Epoch 91/100\n",
      "2000/2000 [==============================] - 0s - loss: 0.6136 - acc: 0.7415 - val_loss: 0.8125 - val_acc: 0.7067\n",
      "Epoch 92/100\n",
      "2000/2000 [==============================] - 0s - loss: 0.6145 - acc: 0.7360 - val_loss: 0.8255 - val_acc: 0.7067\n",
      "Epoch 93/100\n",
      "2000/2000 [==============================] - 0s - loss: 0.6085 - acc: 0.7355 - val_loss: 0.8068 - val_acc: 0.7067\n",
      "Epoch 94/100\n",
      "2000/2000 [==============================] - 0s - loss: 0.6081 - acc: 0.7390 - val_loss: 0.7785 - val_acc: 0.7067\n",
      "Epoch 95/100\n",
      "2000/2000 [==============================] - 0s - loss: 0.6110 - acc: 0.7420 - val_loss: 0.8084 - val_acc: 0.7067\n",
      "Epoch 96/100\n",
      "2000/2000 [==============================] - 0s - loss: 0.6008 - acc: 0.7485 - val_loss: 0.8143 - val_acc: 0.7200\n",
      "Epoch 97/100\n",
      "2000/2000 [==============================] - 0s - loss: 0.6074 - acc: 0.7455 - val_loss: 0.8333 - val_acc: 0.7133\n",
      "Epoch 98/100\n",
      "2000/2000 [==============================] - 0s - loss: 0.6121 - acc: 0.7365 - val_loss: 0.7936 - val_acc: 0.7200\n",
      "Epoch 99/100\n",
      "2000/2000 [==============================] - 0s - loss: 0.6261 - acc: 0.7450 - val_loss: 0.8045 - val_acc: 0.7067\n",
      "Epoch 100/100\n",
      "2000/2000 [==============================] - 0s - loss: 0.6080 - acc: 0.7405 - val_loss: 0.8166 - val_acc: 0.7067\n"
     ]
    }
   ],
   "source": [
    "from keras.callbacks import ModelCheckpoint\n",
    "\n",
    "checkpointer = ModelCheckpoint(filepath='resnet.from.bottleneck.hdf5', save_best_only=True)\n",
    "history = model.fit(train_bottleneck, train_targets, epochs=100,\n",
    "          validation_data=(valid_bottleneck, valid_targets),\n",
    "          callbacks=[checkpointer], verbose=1, shuffle=True)"
   ]
  },
  {
   "cell_type": "code",
   "execution_count": 11,
   "metadata": {},
   "outputs": [],
   "source": [
    "model.load_weights('resnet.from.bottleneck.hdf5')"
   ]
  },
  {
   "cell_type": "code",
   "execution_count": 14,
   "metadata": {},
   "outputs": [
    {
     "name": "stdout",
     "output_type": "stream",
     "text": [
      "544/600 [==========================>...] - ETA: 0s\n",
      "Testing loss: 0.6618\n",
      "Testing accuracy: 0.7283\n"
     ]
    }
   ],
   "source": [
    "print('\\nTesting loss: {:.4f}\\nTesting accuracy: {:.4f}'.format(*model.evaluate(test_bottleneck, test_targets)))"
   ]
  },
  {
   "cell_type": "code",
   "execution_count": 15,
   "metadata": {},
   "outputs": [
    {
     "data": {
      "image/png": "[encoded data removed]",
      "text/plain": [
       "<matplotlib.figure.Figure at 0x7efc080447f0>"
      ]
     },
     "metadata": {},
     "output_type": "display_data"
    }
   ],
   "source": [
    "import matplotlib.pyplot as plt\n",
    "\n",
    "plt.plot(history.history['loss'], label='Training loss')\n",
    "plt.plot(history.history['val_loss'], label='Validation loss')\n",
    "plt.legend()\n",
    "plt.show()"
   ]
  },
  {
   "cell_type": "markdown",
   "metadata": {},
   "source": [
    "## Evaluating the model\n",
    "\n",
    "We have achieved a good testing accuracy. Now we look at the [ROC](https://en.wikipedia.org/wiki/Receiver_operating_characteristic) curve and [confusion matrix](https://en.wikipedia.org/wiki/Confusion_matrix)."
   ]
  },
  {
   "cell_type": "code",
   "execution_count": 16,
   "metadata": {},
   "outputs": [
    {
     "name": "stdout",
     "output_type": "stream",
     "text": [
      "AUC for melanoma: 0.7568\n",
      "AUC for nevus: 0.8356\n",
      "AUC for seborrheic_keratosis: 0.8953\n"
     ]
    },
    {
     "data": {
      "image/png": "[encoded data removed]",
      "text/plain": [
       "<matplotlib.figure.Figure at 0x7efb681fb3c8>"
      ]
     },
     "metadata": {},
     "output_type": "display_data"
    }
   ],
   "source": [
    "from sklearn.metrics import roc_curve, auc\n",
    "\n",
    "for i in range(len(diseases)):\n",
    "    fpr, tpr, _ = roc_curve(test_targets[:,i], model.predict(test_bottleneck)[:,i])\n",
    "    print('AUC for {}: {:.4f}'.format(diseases[i], auc(fpr, tpr)))\n",
    "    plt.plot(fpr, tpr, label=diseases[i])\n",
    "plt.xlabel('False positive rate')\n",
    "plt.ylabel('True positive rate')\n",
    "plt.legend()\n",
    "plt.title('Receiver operator characteristic curve')\n",
    "plt.show()"
   ]
  },
  {
   "cell_type": "code",
   "execution_count": 17,
   "metadata": {},
   "outputs": [
    {
     "data": {
      "image/png": "[encoded data removed]",
      "text/plain": [
       "<matplotlib.figure.Figure at 0x7efc60654198>"
      ]
     },
     "metadata": {},
     "output_type": "display_data"
    }
   ],
   "source": [
    "from sklearn.metrics import confusion_matrix\n",
    "\n",
    "cm = confusion_matrix(np.argmax(test_targets, axis=1),\n",
    "                      np.argmax(model.predict(test_bottleneck), axis=1))\n",
    "plt.imshow(cm, cmap=plt.cm.Blues)\n",
    "plt.colorbar()\n",
    "indexes = np.arange(len(diseases))\n",
    "for i in indexes:\n",
    "    for j in indexes:\n",
    "        plt.text(j, i, cm[i, j])\n",
    "plt.xticks(indexes, diseases, rotation=90)\n",
    "plt.xlabel('Predicted label')\n",
    "plt.yticks(indexes, diseases)\n",
    "plt.ylabel('True label')\n",
    "plt.title('Confusion matrix')\n",
    "plt.show()"
   ]
  },
  {
   "cell_type": "markdown",
   "metadata": {},
   "source": [
    "## Storing predictions in a csv file\n",
    "\n",
    "As part of this mini-project, we store the predictions in a csv file in order to receive evaluation and scoring."
   ]
  },
  {
   "cell_type": "code",
   "execution_count": 18,
   "metadata": {},
   "outputs": [
    {
     "data": {
      "application/vnd.jupyter.widget-view+json": {
       "model_id": "a98c951c74e64ac685657bf1dfdbb4c5",
       "version_major": 2,
       "version_minor": 0
      },
      "text/html": [
       "<p>Failed to display Jupyter Widget of type <code>HBox</code>.</p>\n",
       "<p>\n",
       "  If you're reading this message in Jupyter Notebook or JupyterLab, it may mean\n",
       "  that the widgets JavaScript is still loading. If this message persists, it\n",
       "  likely means that the widgets JavaScript library is either not installed or\n",
       "  not enabled. See the <a href=\"https://ipywidgets.readthedocs.io/en/stable/user_install.html\">Jupyter\n",
       "  Widgets Documentation</a> for setup instructions.\n",
       "</p>\n",
       "<p>\n",
       "  If you're reading this message in another notebook frontend (for example, a static\n",
       "  rendering on GitHub or <a href=\"https://nbviewer.jupyter.org/\">NBViewer</a>),\n",
       "  it may mean that your frontend doesn't currently support widgets.\n",
       "</p>\n"
      ],
      "text/plain": [
       "HBox(children=(IntProgress(value=0, max=600), HTML(value='')))"
      ]
     },
     "metadata": {},
     "output_type": "display_data"
    },
    {
     "name": "stdout",
     "output_type": "stream",
     "text": [
      "\n"
     ]
    }
   ],
   "source": [
    "import csv\n",
    "\n",
    "with open('predictions.csv', 'w') as f:\n",
    "    csvwriter = csv.writer(f)\n",
    "    csvwriter.writerow(['Id', 'task_1', 'task_2'])\n",
    "    for path in tqdm_notebook(sorted(test_files)):\n",
    "        tensor = preprocess_input(get_tensor(path))\n",
    "        pred = model.predict(resnet50.predict(tensor))[0]\n",
    "        csvwriter.writerow([path, pred[0], pred[2]])"
   ]
  }
 ],
 "metadata": {
  "kernelspec": {
   "display_name": "Python 3",
   "language": "python",
   "name": "python3"
  },
  "language_info": {
   "codemirror_mode": {
    "name": "ipython",
    "version": 3
   },
   "file_extension": ".py",
   "mimetype": "text/x-python",
   "name": "python",
   "nbconvert_exporter": "python",
   "pygments_lexer": "ipython3",
   "version": "3.5.2"
  }
 },
 "nbformat": 4,
 "nbformat_minor": 2
}
