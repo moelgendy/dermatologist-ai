{
 "cells": [
  {
   "cell_type": "markdown",
   "metadata": {},
   "source": [
    "# Dermatologist AI\n",
    "\n",
    "In this mini-project, we are going to classify images of skin lesions into melanoma, nevus and seborrheic keratosis. We do this by using [ResNet50](https://arxiv.org/abs/1512.03385) model pretrained on [ImageNet](http://www.image-net.org/)."
   ]
  },
  {
   "cell_type": "markdown",
   "metadata": {},
   "source": [
    "## Loading the dataset\n",
    "\n",
    "We load the training, validation and testing sets and resize the images to 224×224. Then, we preprocess the images for ResNet50."
   ]
  },
  {
   "cell_type": "code",
   "execution_count": 1,
   "metadata": {},
   "outputs": [
    {
     "name": "stderr",
     "output_type": "stream",
     "text": [
      "Using TensorFlow backend.\n"
     ]
    }
   ],
   "source": [
    "from sklearn.datasets import load_files\n",
    "from keras.utils import np_utils\n",
    "import numpy as np\n",
    "\n",
    "def load_dataset(path):\n",
    "    data = load_files(path)\n",
    "    paths = np.array(data['filenames'])\n",
    "    targets = np_utils.to_categorical(np.array(data['target']))\n",
    "    return paths, targets"
   ]
  },
  {
   "cell_type": "code",
   "execution_count": 2,
   "metadata": {},
   "outputs": [],
   "source": [
    "train_files, train_targets = load_dataset('data/train')\n",
    "valid_files, valid_targets = load_dataset('data/valid')\n",
    "test_files, test_targets = load_dataset('data/test')"
   ]
  },
  {
   "cell_type": "code",
   "execution_count": 3,
   "metadata": {},
   "outputs": [
    {
     "name": "stdout",
     "output_type": "stream",
     "text": [
      "There are 3 classes: melanoma, nevus, seborrheic_keratosis.\n",
      "There are 2000 training images.\n",
      "There are 150 validation images.\n",
      "There are 600 testing images.\n"
     ]
    }
   ],
   "source": [
    "from os import listdir\n",
    "\n",
    "diseases = sorted(listdir('data/train'))\n",
    "\n",
    "print('There are {} classes: {}.'.format(len(diseases), ', '.join(diseases)))\n",
    "print('There are {} training images.'.format(len(train_files)))\n",
    "print('There are {} validation images.'.format(len(valid_files)))\n",
    "print('There are {} testing images.'.format(len(test_files)))"
   ]
  },
  {
   "cell_type": "code",
   "execution_count": 4,
   "metadata": {},
   "outputs": [],
   "source": [
    "from keras.preprocessing import image\n",
    "from tqdm import tqdm_notebook\n",
    "\n",
    "def get_tensor(path):\n",
    "    img = image.load_img(path, target_size=(224, 224))\n",
    "    return np.expand_dims(image.img_to_array(img), axis=0)\n",
    "\n",
    "def get_tensors(paths):\n",
    "    return np.vstack([get_tensor(path) for path in tqdm_notebook(paths)])"
   ]
  },
  {
   "cell_type": "code",
   "execution_count": 5,
   "metadata": {
    "scrolled": true
   },
   "outputs": [
    {
     "data": {
      "application/vnd.jupyter.widget-view+json": {
       "model_id": "960dfb772a6a4dbc8759eac5ea1945a1",
       "version_major": 2,
       "version_minor": 0
      },
      "text/html": [
       "<p>Failed to display Jupyter Widget of type <code>HBox</code>.</p>\n",
       "<p>\n",
       "  If you're reading this message in Jupyter Notebook or JupyterLab, it may mean\n",
       "  that the widgets JavaScript is still loading. If this message persists, it\n",
       "  likely means that the widgets JavaScript library is either not installed or\n",
       "  not enabled. See the <a href=\"https://ipywidgets.readthedocs.io/en/stable/user_install.html\">Jupyter\n",
       "  Widgets Documentation</a> for setup instructions.\n",
       "</p>\n",
       "<p>\n",
       "  If you're reading this message in another notebook frontend (for example, a static\n",
       "  rendering on GitHub or <a href=\"https://nbviewer.jupyter.org/\">NBViewer</a>),\n",
       "  it may mean that your frontend doesn't currently support widgets.\n",
       "</p>\n"
      ],
      "text/plain": [
       "HBox(children=(IntProgress(value=0, max=2000), HTML(value='')))"
      ]
     },
     "metadata": {},
     "output_type": "display_data"
    },
    {
     "name": "stdout",
     "output_type": "stream",
     "text": [
      "\n"
     ]
    },
    {
     "data": {
      "application/vnd.jupyter.widget-view+json": {
       "model_id": "80a20afaf3824b5da50f59f41182acf8",
       "version_major": 2,
       "version_minor": 0
      },
      "text/html": [
       "<p>Failed to display Jupyter Widget of type <code>HBox</code>.</p>\n",
       "<p>\n",
       "  If you're reading this message in Jupyter Notebook or JupyterLab, it may mean\n",
       "  that the widgets JavaScript is still loading. If this message persists, it\n",
       "  likely means that the widgets JavaScript library is either not installed or\n",
       "  not enabled. See the <a href=\"https://ipywidgets.readthedocs.io/en/stable/user_install.html\">Jupyter\n",
       "  Widgets Documentation</a> for setup instructions.\n",
       "</p>\n",
       "<p>\n",
       "  If you're reading this message in another notebook frontend (for example, a static\n",
       "  rendering on GitHub or <a href=\"https://nbviewer.jupyter.org/\">NBViewer</a>),\n",
       "  it may mean that your frontend doesn't currently support widgets.\n",
       "</p>\n"
      ],
      "text/plain": [
       "HBox(children=(IntProgress(value=0, max=150), HTML(value='')))"
      ]
     },
     "metadata": {},
     "output_type": "display_data"
    },
    {
     "name": "stdout",
     "output_type": "stream",
     "text": [
      "\n"
     ]
    },
    {
     "data": {
      "application/vnd.jupyter.widget-view+json": {
       "model_id": "36d9b98cf4e8405e8e7721867ae1ac00",
       "version_major": 2,
       "version_minor": 0
      },
      "text/html": [
       "<p>Failed to display Jupyter Widget of type <code>HBox</code>.</p>\n",
       "<p>\n",
       "  If you're reading this message in Jupyter Notebook or JupyterLab, it may mean\n",
       "  that the widgets JavaScript is still loading. If this message persists, it\n",
       "  likely means that the widgets JavaScript library is either not installed or\n",
       "  not enabled. See the <a href=\"https://ipywidgets.readthedocs.io/en/stable/user_install.html\">Jupyter\n",
       "  Widgets Documentation</a> for setup instructions.\n",
       "</p>\n",
       "<p>\n",
       "  If you're reading this message in another notebook frontend (for example, a static\n",
       "  rendering on GitHub or <a href=\"https://nbviewer.jupyter.org/\">NBViewer</a>),\n",
       "  it may mean that your frontend doesn't currently support widgets.\n",
       "</p>\n"
      ],
      "text/plain": [
       "HBox(children=(IntProgress(value=0, max=600), HTML(value='')))"
      ]
     },
     "metadata": {},
     "output_type": "display_data"
    },
    {
     "name": "stdout",
     "output_type": "stream",
     "text": [
      "\n"
     ]
    }
   ],
   "source": [
    "from keras.applications.resnet50 import preprocess_input\n",
    "\n",
    "train_tensors = preprocess_input(get_tensors(train_files))\n",
    "valid_tensors = preprocess_input(get_tensors(valid_files))\n",
    "test_tensors = preprocess_input(get_tensors(test_files))"
   ]
  },
  {
   "cell_type": "markdown",
   "metadata": {},
   "source": [
    "## Building the model\n",
    "Since we are using transfer learning, we pass all the images into the ResNet50 with the top layers chopped off and weights pretrained on ImageNet. Then, we train these bottleneck features in a neural network with a Global Average Pooling layer and 3 fully connected layers. The architecture is depicted below.\n",
    "\n",
    "![alt Transfer learning architecture](derm_ai_arch.png)"
   ]
  },
  {
   "cell_type": "code",
   "execution_count": 6,
   "metadata": {},
   "outputs": [
    {
     "name": "stdout",
     "output_type": "stream",
     "text": [
      "Downloading data from https://github.com/fchollet/deep-learning-models/releases/download/v0.2/resnet50_weights_tf_dim_ordering_tf_kernels_notop.h5\n"
     ]
    }
   ],
   "source": [
    "from keras.applications.resnet50 import ResNet50\n",
    "\n",
    "resnet50 = ResNet50(include_top=False, input_shape=(224, 224, 3))"
   ]
  },
  {
   "cell_type": "code",
   "execution_count": 7,
   "metadata": {},
   "outputs": [],
   "source": [
    "train_bottleneck = resnet50.predict(train_tensors)\n",
    "valid_bottleneck = resnet50.predict(valid_tensors)\n",
    "test_bottleneck = resnet50.predict(test_tensors)"
   ]
  },
  {
   "cell_type": "code",
   "execution_count": 8,
   "metadata": {
    "scrolled": false
   },
   "outputs": [
    {
     "name": "stdout",
     "output_type": "stream",
     "text": [
      "_________________________________________________________________\n",
      "Layer (type)                 Output Shape              Param #   \n",
      "=================================================================\n",
      "global_average_pooling2d_1 ( (None, 2048)              0         \n",
      "_________________________________________________________________\n",
      "dropout_1 (Dropout)          (None, 2048)              0         \n",
      "_________________________________________________________________\n",
      "dense_1 (Dense)              (None, 2048)              4196352   \n",
      "_________________________________________________________________\n",
      "dropout_2 (Dropout)          (None, 2048)              0         \n",
      "_________________________________________________________________\n",
      "dense_2 (Dense)              (None, 2048)              4196352   \n",
      "_________________________________________________________________\n",
      "dense_3 (Dense)              (None, 3)                 6147      \n",
      "=================================================================\n",
      "Total params: 8,398,851.0\n",
      "Trainable params: 8,398,851.0\n",
      "Non-trainable params: 0.0\n",
      "_________________________________________________________________\n"
     ]
    }
   ],
   "source": [
    "from keras.layers import GlobalAveragePooling2D, Dense, Dropout\n",
    "from keras.models import Sequential\n",
    "\n",
    "model = Sequential()\n",
    "model.add(GlobalAveragePooling2D(input_shape=train_bottleneck.shape[1:]))\n",
    "model.add(Dropout(0.5))\n",
    "model.add(Dense(2048, activation='tanh'))\n",
    "model.add(Dropout(0.5))\n",
    "model.add(Dense(2048, activation='tanh'))\n",
    "model.add(Dense(3, activation='softmax'))\n",
    "model.summary()"
   ]
  },
  {
   "cell_type": "markdown",
   "metadata": {},
   "source": [
    "## Training the model\n",
    "We train the model by using stochastic gradient descent with momentum for 100 epochs. Hyperparameter tuning is done by trying different configurations on the number of nodes in the first and second dense layers and the learning rate and looking at the loss curve."
   ]
  },
  {
   "cell_type": "code",
   "execution_count": 10,
   "metadata": {},
   "outputs": [],
   "source": [
    "from keras import optimizers\n",
    "\n",
    "model.compile(loss='categorical_crossentropy', metrics=['accuracy'],\n",
    "              optimizer=optimizers.SGD(lr=0.0001, momentum=0.9, decay=1e-6))"
   ]
  },
  {
   "cell_type": "code",
   "execution_count": 11,
   "metadata": {},
   "outputs": [
    {
     "name": "stdout",
     "output_type": "stream",
     "text": [
      "Train on 2000 samples, validate on 150 samples\n",
      "Epoch 1/100\n",
      "2000/2000 [==============================] - 1s - loss: 1.0005 - acc: 0.5890 - val_loss: 1.3532 - val_acc: 0.5133\n",
      "Epoch 2/100\n",
      "2000/2000 [==============================] - 0s - loss: 0.8954 - acc: 0.6495 - val_loss: 1.2404 - val_acc: 0.5133\n",
      "Epoch 3/100\n",
      "2000/2000 [==============================] - 0s - loss: 0.8470 - acc: 0.6555 - val_loss: 1.2114 - val_acc: 0.5133\n",
      "Epoch 4/100\n",
      "2000/2000 [==============================] - 0s - loss: 0.8253 - acc: 0.6640 - val_loss: 1.1755 - val_acc: 0.5400\n",
      "Epoch 5/100\n",
      "2000/2000 [==============================] - 0s - loss: 0.7825 - acc: 0.6795 - val_loss: 1.0546 - val_acc: 0.5667\n",
      "Epoch 6/100\n",
      "2000/2000 [==============================] - 0s - loss: 0.7962 - acc: 0.6665 - val_loss: 1.0764 - val_acc: 0.5533\n",
      "Epoch 7/100\n",
      "2000/2000 [==============================] - 0s - loss: 0.7620 - acc: 0.6845 - val_loss: 0.9849 - val_acc: 0.5867\n",
      "Epoch 8/100\n",
      "2000/2000 [==============================] - 0s - loss: 0.7314 - acc: 0.6960 - val_loss: 0.9955 - val_acc: 0.5933\n",
      "Epoch 9/100\n",
      "2000/2000 [==============================] - 0s - loss: 0.7552 - acc: 0.6790 - val_loss: 0.9786 - val_acc: 0.5933\n",
      "Epoch 10/100\n",
      "2000/2000 [==============================] - 0s - loss: 0.7486 - acc: 0.6845 - val_loss: 0.9607 - val_acc: 0.6133\n",
      "Epoch 11/100\n",
      "2000/2000 [==============================] - 0s - loss: 0.7321 - acc: 0.6875 - val_loss: 0.9636 - val_acc: 0.6067\n",
      "Epoch 12/100\n",
      "2000/2000 [==============================] - 0s - loss: 0.7394 - acc: 0.6870 - val_loss: 0.9925 - val_acc: 0.6000\n",
      "Epoch 13/100\n",
      "2000/2000 [==============================] - 0s - loss: 0.7098 - acc: 0.7030 - val_loss: 0.9736 - val_acc: 0.6133\n",
      "Epoch 14/100\n",
      "2000/2000 [==============================] - 0s - loss: 0.7057 - acc: 0.6955 - val_loss: 0.9571 - val_acc: 0.6133\n",
      "Epoch 15/100\n",
      "2000/2000 [==============================] - 1s - loss: 0.6944 - acc: 0.7015 - val_loss: 0.9426 - val_acc: 0.6267\n",
      "Epoch 16/100\n",
      "2000/2000 [==============================] - 0s - loss: 0.7169 - acc: 0.6925 - val_loss: 0.9706 - val_acc: 0.6000\n",
      "Epoch 17/100\n",
      "2000/2000 [==============================] - 0s - loss: 0.7094 - acc: 0.6955 - val_loss: 0.9680 - val_acc: 0.6067\n",
      "Epoch 18/100\n",
      "2000/2000 [==============================] - 0s - loss: 0.6903 - acc: 0.7035 - val_loss: 0.9492 - val_acc: 0.6200\n",
      "Epoch 19/100\n",
      "2000/2000 [==============================] - 0s - loss: 0.7042 - acc: 0.7005 - val_loss: 0.9494 - val_acc: 0.6067\n",
      "Epoch 20/100\n",
      "2000/2000 [==============================] - 0s - loss: 0.6851 - acc: 0.7040 - val_loss: 0.9313 - val_acc: 0.6400\n",
      "Epoch 21/100\n",
      "2000/2000 [==============================] - 0s - loss: 0.6767 - acc: 0.7110 - val_loss: 0.9700 - val_acc: 0.6200\n",
      "Epoch 22/100\n",
      "2000/2000 [==============================] - 0s - loss: 0.6957 - acc: 0.7040 - val_loss: 0.9606 - val_acc: 0.6267\n",
      "Epoch 23/100\n",
      "2000/2000 [==============================] - 1s - loss: 0.6931 - acc: 0.7000 - val_loss: 0.8747 - val_acc: 0.6600\n",
      "Epoch 24/100\n",
      "2000/2000 [==============================] - 0s - loss: 0.6716 - acc: 0.7070 - val_loss: 0.9518 - val_acc: 0.6200\n",
      "Epoch 25/100\n",
      "2000/2000 [==============================] - 0s - loss: 0.6861 - acc: 0.7040 - val_loss: 0.8695 - val_acc: 0.6533\n",
      "Epoch 26/100\n",
      "2000/2000 [==============================] - 0s - loss: 0.6848 - acc: 0.7115 - val_loss: 0.8411 - val_acc: 0.6933\n",
      "Epoch 27/100\n",
      "2000/2000 [==============================] - 0s - loss: 0.6701 - acc: 0.7130 - val_loss: 0.9059 - val_acc: 0.6400\n",
      "Epoch 28/100\n",
      "2000/2000 [==============================] - 0s - loss: 0.6809 - acc: 0.7090 - val_loss: 0.9479 - val_acc: 0.6400\n",
      "Epoch 29/100\n",
      "2000/2000 [==============================] - 0s - loss: 0.6773 - acc: 0.7220 - val_loss: 0.8839 - val_acc: 0.6467\n",
      "Epoch 30/100\n",
      "2000/2000 [==============================] - 0s - loss: 0.6907 - acc: 0.7055 - val_loss: 0.9310 - val_acc: 0.6400\n",
      "Epoch 31/100\n",
      "2000/2000 [==============================] - 0s - loss: 0.6809 - acc: 0.7095 - val_loss: 0.9390 - val_acc: 0.6333\n",
      "Epoch 32/100\n",
      "2000/2000 [==============================] - 0s - loss: 0.6744 - acc: 0.7170 - val_loss: 0.8636 - val_acc: 0.6600\n",
      "Epoch 33/100\n",
      "2000/2000 [==============================] - 0s - loss: 0.6813 - acc: 0.7155 - val_loss: 0.8811 - val_acc: 0.6533\n",
      "Epoch 34/100\n",
      "2000/2000 [==============================] - 0s - loss: 0.6596 - acc: 0.7125 - val_loss: 0.8968 - val_acc: 0.6467\n",
      "Epoch 35/100\n",
      "2000/2000 [==============================] - 0s - loss: 0.6523 - acc: 0.7235 - val_loss: 0.8995 - val_acc: 0.6533\n",
      "Epoch 36/100\n",
      "2000/2000 [==============================] - 0s - loss: 0.6487 - acc: 0.7240 - val_loss: 0.8960 - val_acc: 0.6467\n",
      "Epoch 37/100\n",
      "2000/2000 [==============================] - 0s - loss: 0.6658 - acc: 0.7165 - val_loss: 0.8760 - val_acc: 0.6600\n",
      "Epoch 38/100\n",
      "2000/2000 [==============================] - 0s - loss: 0.6753 - acc: 0.7130 - val_loss: 0.8975 - val_acc: 0.6467\n",
      "Epoch 39/100\n",
      "2000/2000 [==============================] - 0s - loss: 0.6639 - acc: 0.7120 - val_loss: 0.8938 - val_acc: 0.6467\n",
      "Epoch 40/100\n",
      "2000/2000 [==============================] - 0s - loss: 0.6624 - acc: 0.7175 - val_loss: 0.8905 - val_acc: 0.6467\n",
      "Epoch 41/100\n",
      "2000/2000 [==============================] - 0s - loss: 0.6520 - acc: 0.7305 - val_loss: 0.9227 - val_acc: 0.6467\n",
      "Epoch 42/100\n",
      "2000/2000 [==============================] - 0s - loss: 0.6460 - acc: 0.7190 - val_loss: 0.9153 - val_acc: 0.6467\n",
      "Epoch 43/100\n",
      "2000/2000 [==============================] - 0s - loss: 0.6525 - acc: 0.7220 - val_loss: 0.8723 - val_acc: 0.6533\n",
      "Epoch 44/100\n",
      "2000/2000 [==============================] - 0s - loss: 0.6545 - acc: 0.7240 - val_loss: 0.9141 - val_acc: 0.6467\n",
      "Epoch 45/100\n",
      "2000/2000 [==============================] - 0s - loss: 0.6455 - acc: 0.7260 - val_loss: 0.8802 - val_acc: 0.6533\n",
      "Epoch 46/100\n",
      "2000/2000 [==============================] - 0s - loss: 0.6516 - acc: 0.7255 - val_loss: 0.8634 - val_acc: 0.6667\n",
      "Epoch 47/100\n",
      "2000/2000 [==============================] - 0s - loss: 0.6416 - acc: 0.7345 - val_loss: 0.8446 - val_acc: 0.6800\n",
      "Epoch 48/100\n",
      "2000/2000 [==============================] - 0s - loss: 0.6360 - acc: 0.7235 - val_loss: 0.8529 - val_acc: 0.6600\n",
      "Epoch 49/100\n",
      "2000/2000 [==============================] - 0s - loss: 0.6581 - acc: 0.7225 - val_loss: 0.8520 - val_acc: 0.6600\n",
      "Epoch 50/100\n",
      "2000/2000 [==============================] - 0s - loss: 0.6589 - acc: 0.7195 - val_loss: 0.8507 - val_acc: 0.6800\n",
      "Epoch 51/100\n",
      "2000/2000 [==============================] - 0s - loss: 0.6460 - acc: 0.7220 - val_loss: 0.8301 - val_acc: 0.6933\n",
      "Epoch 52/100\n",
      "2000/2000 [==============================] - 0s - loss: 0.6392 - acc: 0.7390 - val_loss: 0.8490 - val_acc: 0.6800\n",
      "Epoch 53/100\n",
      "2000/2000 [==============================] - 0s - loss: 0.6351 - acc: 0.7225 - val_loss: 0.8542 - val_acc: 0.6800\n",
      "Epoch 54/100\n",
      "2000/2000 [==============================] - 0s - loss: 0.6458 - acc: 0.7215 - val_loss: 0.8542 - val_acc: 0.6600\n",
      "Epoch 55/100\n",
      "2000/2000 [==============================] - 0s - loss: 0.6538 - acc: 0.7280 - val_loss: 0.8510 - val_acc: 0.6800\n",
      "Epoch 56/100\n",
      "2000/2000 [==============================] - 0s - loss: 0.6375 - acc: 0.7400 - val_loss: 0.8719 - val_acc: 0.6800\n",
      "Epoch 57/100\n",
      "2000/2000 [==============================] - 0s - loss: 0.6303 - acc: 0.7385 - val_loss: 0.9027 - val_acc: 0.6467\n",
      "Epoch 58/100\n",
      "2000/2000 [==============================] - 0s - loss: 0.6409 - acc: 0.7285 - val_loss: 0.8523 - val_acc: 0.6667\n",
      "Epoch 59/100\n",
      "2000/2000 [==============================] - 0s - loss: 0.6413 - acc: 0.7240 - val_loss: 0.8501 - val_acc: 0.6667\n",
      "Epoch 60/100\n",
      "2000/2000 [==============================] - 0s - loss: 0.6349 - acc: 0.7245 - val_loss: 0.8243 - val_acc: 0.6933\n",
      "Epoch 61/100\n",
      "2000/2000 [==============================] - 0s - loss: 0.6296 - acc: 0.7300 - val_loss: 0.8784 - val_acc: 0.6600\n",
      "Epoch 62/100\n",
      "2000/2000 [==============================] - 0s - loss: 0.6170 - acc: 0.7385 - val_loss: 0.8513 - val_acc: 0.6800\n",
      "Epoch 63/100\n",
      "2000/2000 [==============================] - 0s - loss: 0.6381 - acc: 0.7250 - val_loss: 0.8377 - val_acc: 0.6867\n",
      "Epoch 64/100\n",
      "2000/2000 [==============================] - 0s - loss: 0.6253 - acc: 0.7285 - val_loss: 0.8535 - val_acc: 0.6800\n",
      "Epoch 65/100\n",
      "2000/2000 [==============================] - 0s - loss: 0.6281 - acc: 0.7215 - val_loss: 0.8450 - val_acc: 0.6867\n",
      "Epoch 66/100\n",
      "2000/2000 [==============================] - 0s - loss: 0.6349 - acc: 0.7195 - val_loss: 0.9144 - val_acc: 0.6467\n",
      "Epoch 67/100\n",
      "2000/2000 [==============================] - 0s - loss: 0.6317 - acc: 0.7225 - val_loss: 0.9014 - val_acc: 0.6533\n",
      "Epoch 68/100\n",
      "2000/2000 [==============================] - 0s - loss: 0.6215 - acc: 0.7310 - val_loss: 0.8282 - val_acc: 0.6933\n",
      "Epoch 69/100\n",
      "2000/2000 [==============================] - 0s - loss: 0.6224 - acc: 0.7345 - val_loss: 0.9015 - val_acc: 0.6533\n",
      "Epoch 70/100\n",
      "2000/2000 [==============================] - 0s - loss: 0.6237 - acc: 0.7405 - val_loss: 0.8302 - val_acc: 0.6933\n",
      "Epoch 71/100\n",
      "2000/2000 [==============================] - 0s - loss: 0.6229 - acc: 0.7420 - val_loss: 0.8653 - val_acc: 0.6733\n",
      "Epoch 72/100\n",
      "2000/2000 [==============================] - 0s - loss: 0.6363 - acc: 0.7280 - val_loss: 0.8400 - val_acc: 0.6800\n",
      "Epoch 73/100\n",
      "2000/2000 [==============================] - 0s - loss: 0.6263 - acc: 0.7295 - val_loss: 0.8518 - val_acc: 0.6800\n",
      "Epoch 74/100\n",
      "2000/2000 [==============================] - 0s - loss: 0.6185 - acc: 0.7485 - val_loss: 0.8334 - val_acc: 0.7000\n",
      "Epoch 75/100\n",
      "2000/2000 [==============================] - 0s - loss: 0.6285 - acc: 0.7290 - val_loss: 0.8549 - val_acc: 0.6867\n",
      "Epoch 76/100\n",
      "2000/2000 [==============================] - 0s - loss: 0.6025 - acc: 0.7380 - val_loss: 0.8547 - val_acc: 0.6867\n",
      "Epoch 77/100\n",
      "2000/2000 [==============================] - 0s - loss: 0.6393 - acc: 0.7360 - val_loss: 0.8333 - val_acc: 0.7000\n",
      "Epoch 78/100\n",
      "2000/2000 [==============================] - 0s - loss: 0.6083 - acc: 0.7335 - val_loss: 0.8275 - val_acc: 0.6933\n",
      "Epoch 79/100\n",
      "2000/2000 [==============================] - 0s - loss: 0.6259 - acc: 0.7315 - val_loss: 0.8571 - val_acc: 0.6800\n",
      "Epoch 80/100\n",
      "2000/2000 [==============================] - 0s - loss: 0.6364 - acc: 0.7345 - val_loss: 0.8612 - val_acc: 0.6733\n",
      "Epoch 81/100\n",
      "2000/2000 [==============================] - 0s - loss: 0.6078 - acc: 0.7415 - val_loss: 0.8357 - val_acc: 0.7000\n",
      "Epoch 82/100\n",
      "2000/2000 [==============================] - 0s - loss: 0.6153 - acc: 0.7350 - val_loss: 0.8244 - val_acc: 0.6933\n",
      "Epoch 83/100\n",
      "2000/2000 [==============================] - 0s - loss: 0.6265 - acc: 0.7385 - val_loss: 0.8347 - val_acc: 0.6933\n",
      "Epoch 84/100\n",
      "2000/2000 [==============================] - 0s - loss: 0.6270 - acc: 0.7330 - val_loss: 0.8415 - val_acc: 0.6933\n",
      "Epoch 85/100\n",
      "2000/2000 [==============================] - 0s - loss: 0.6071 - acc: 0.7395 - val_loss: 0.8197 - val_acc: 0.6933\n",
      "Epoch 86/100\n",
      "2000/2000 [==============================] - 0s - loss: 0.6232 - acc: 0.7300 - val_loss: 0.8731 - val_acc: 0.6800\n",
      "Epoch 87/100\n",
      "2000/2000 [==============================] - 0s - loss: 0.6162 - acc: 0.7400 - val_loss: 0.8713 - val_acc: 0.6800\n",
      "Epoch 88/100\n",
      "2000/2000 [==============================] - 0s - loss: 0.6201 - acc: 0.7415 - val_loss: 0.8422 - val_acc: 0.6867\n",
      "Epoch 89/100\n",
      "2000/2000 [==============================] - 0s - loss: 0.6101 - acc: 0.7410 - val_loss: 0.8339 - val_acc: 0.7000\n",
      "Epoch 90/100\n",
      "2000/2000 [==============================] - 0s - loss: 0.6141 - acc: 0.7460 - val_loss: 0.8433 - val_acc: 0.6867\n",
      "Epoch 91/100\n",
      "2000/2000 [==============================] - 0s - loss: 0.6197 - acc: 0.7415 - val_loss: 0.8257 - val_acc: 0.6933\n",
      "Epoch 92/100\n",
      "2000/2000 [==============================] - 0s - loss: 0.6187 - acc: 0.7355 - val_loss: 0.8546 - val_acc: 0.6600\n",
      "Epoch 93/100\n",
      "2000/2000 [==============================] - 0s - loss: 0.6122 - acc: 0.7440 - val_loss: 0.8284 - val_acc: 0.6933\n",
      "Epoch 94/100\n",
      "2000/2000 [==============================] - 0s - loss: 0.6164 - acc: 0.7390 - val_loss: 0.8231 - val_acc: 0.7000\n",
      "Epoch 95/100\n",
      "2000/2000 [==============================] - 0s - loss: 0.6201 - acc: 0.7275 - val_loss: 0.8355 - val_acc: 0.6867\n",
      "Epoch 96/100\n",
      "2000/2000 [==============================] - 0s - loss: 0.6028 - acc: 0.7405 - val_loss: 0.8400 - val_acc: 0.6867\n",
      "Epoch 97/100\n",
      "2000/2000 [==============================] - 0s - loss: 0.6023 - acc: 0.7445 - val_loss: 0.8231 - val_acc: 0.6933\n",
      "Epoch 98/100\n",
      "2000/2000 [==============================] - 0s - loss: 0.6049 - acc: 0.7440 - val_loss: 0.8755 - val_acc: 0.6800\n",
      "Epoch 99/100\n",
      "2000/2000 [==============================] - 0s - loss: 0.6145 - acc: 0.7280 - val_loss: 0.8313 - val_acc: 0.6933\n",
      "Epoch 100/100\n",
      "2000/2000 [==============================] - 0s - loss: 0.6160 - acc: 0.7340 - val_loss: 0.8510 - val_acc: 0.6800\n"
     ]
    }
   ],
   "source": [
    "from keras.callbacks import ModelCheckpoint\n",
    "\n",
    "checkpointer = ModelCheckpoint(filepath='resnet.from.bottleneck.hdf5', save_best_only=True)\n",
    "history = model.fit(train_bottleneck, train_targets, epochs=100,\n",
    "          validation_data=(valid_bottleneck, valid_targets),\n",
    "          callbacks=[checkpointer], verbose=1, shuffle=True)"
   ]
  },
  {
   "cell_type": "code",
   "execution_count": 12,
   "metadata": {},
   "outputs": [],
   "source": [
    "model.load_weights('resnet.from.bottleneck.hdf5')"
   ]
  },
  {
   "cell_type": "code",
   "execution_count": 13,
   "metadata": {},
   "outputs": [
    {
     "name": "stdout",
     "output_type": "stream",
     "text": [
      "576/600 [===========================>..] - ETA: 0s\n",
      "Testing loss: 0.6599\n",
      "Testing accuracy: 0.7333\n"
     ]
    }
   ],
   "source": [
    "print('\\nTesting loss: {:.4f}\\nTesting accuracy: {:.4f}'.format(*model.evaluate(test_bottleneck, test_targets)))"
   ]
  },
  {
   "cell_type": "code",
   "execution_count": 14,
   "metadata": {
    "scrolled": true
   },
   "outputs": [
    {
     "data": {
      "image/png": "[encoded data removed]",
      "text/plain": [
       "<matplotlib.figure.Figure at 0x7fd7cafb4320>"
      ]
     },
     "metadata": {},
     "output_type": "display_data"
    }
   ],
   "source": [
    "import matplotlib.pyplot as plt\n",
    "\n",
    "plt.plot(history.history['loss'], label='Training loss')\n",
    "plt.plot(history.history['val_loss'], label='Validation loss')\n",
    "plt.legend()\n",
    "plt.show()"
   ]
  },
  {
   "cell_type": "markdown",
   "metadata": {},
   "source": [
    "## Evaluating the model\n",
    "\n",
    "We have achieved a good testing accuracy. Now we look at the [ROC](https://en.wikipedia.org/wiki/Receiver_operating_characteristic) curve and [confusion matrix](https://en.wikipedia.org/wiki/Confusion_matrix)."
   ]
  },
  {
   "cell_type": "code",
   "execution_count": 15,
   "metadata": {},
   "outputs": [
    {
     "name": "stdout",
     "output_type": "stream",
     "text": [
      "AUC for melanoma: 0.7665\n",
      "AUC for nevus: 0.8387\n",
      "AUC for seborrheic_keratosis: 0.8910\n"
     ]
    },
    {
     "data": {
      "image/png": "[encoded data removed]",
      "text/plain": [
       "<matplotlib.figure.Figure at 0x7fd7a8158c88>"
      ]
     },
     "metadata": {},
     "output_type": "display_data"
    }
   ],
   "source": [
    "from sklearn.metrics import roc_curve, auc\n",
    "\n",
    "for i in range(len(diseases)):\n",
    "    fpr, tpr, _ = roc_curve(test_targets[:,i], model.predict(test_bottleneck)[:,i])\n",
    "    print('AUC for {}: {:.4f}'.format(diseases[i], auc(fpr, tpr)))\n",
    "    plt.plot(fpr, tpr, label=diseases[i])\n",
    "plt.xlabel('False positive rate')\n",
    "plt.ylabel('True positive rate')\n",
    "plt.legend()\n",
    "plt.title('Receiver operator characteristic curve')\n",
    "plt.show()"
   ]
  },
  {
   "cell_type": "code",
   "execution_count": 16,
   "metadata": {
    "scrolled": true
   },
   "outputs": [
    {
     "data": {
      "image/png": "[encoded data removed]",
      "text/plain": [
       "<matplotlib.figure.Figure at 0x7fd7a809b5f8>"
      ]
     },
     "metadata": {},
     "output_type": "display_data"
    }
   ],
   "source": [
    "from sklearn.metrics import confusion_matrix\n",
    "\n",
    "cm = confusion_matrix(np.argmax(test_targets, axis=1),\n",
    "                      np.argmax(model.predict(test_bottleneck), axis=1))\n",
    "plt.imshow(cm, cmap=plt.cm.Blues)\n",
    "plt.colorbar()\n",
    "indexes = np.arange(len(diseases))\n",
    "for i in indexes:\n",
    "    for j in indexes:\n",
    "        plt.text(j, i, cm[i, j])\n",
    "plt.xticks(indexes, diseases, rotation=90)\n",
    "plt.xlabel('Predicted label')\n",
    "plt.yticks(indexes, diseases)\n",
    "plt.ylabel('True label')\n",
    "plt.title('Confusion matrix')\n",
    "plt.show()"
   ]
  },
  {
   "cell_type": "markdown",
   "metadata": {},
   "source": [
    "## Storing predictions in a csv file\n",
    "\n",
    "As part of this mini-project, we store the predictions in a csv file in order to receive evaluation and scoring."
   ]
  },
  {
   "cell_type": "code",
   "execution_count": 17,
   "metadata": {},
   "outputs": [
    {
     "data": {
      "application/vnd.jupyter.widget-view+json": {
       "model_id": "d941c34fa41e4e9dbea341f731b9bc8e",
       "version_major": 2,
       "version_minor": 0
      },
      "text/html": [
       "<p>Failed to display Jupyter Widget of type <code>HBox</code>.</p>\n",
       "<p>\n",
       "  If you're reading this message in Jupyter Notebook or JupyterLab, it may mean\n",
       "  that the widgets JavaScript is still loading. If this message persists, it\n",
       "  likely means that the widgets JavaScript library is either not installed or\n",
       "  not enabled. See the <a href=\"https://ipywidgets.readthedocs.io/en/stable/user_install.html\">Jupyter\n",
       "  Widgets Documentation</a> for setup instructions.\n",
       "</p>\n",
       "<p>\n",
       "  If you're reading this message in another notebook frontend (for example, a static\n",
       "  rendering on GitHub or <a href=\"https://nbviewer.jupyter.org/\">NBViewer</a>),\n",
       "  it may mean that your frontend doesn't currently support widgets.\n",
       "</p>\n"
      ],
      "text/plain": [
       "HBox(children=(IntProgress(value=0, max=600), HTML(value='')))"
      ]
     },
     "metadata": {},
     "output_type": "display_data"
    },
    {
     "name": "stdout",
     "output_type": "stream",
     "text": [
      "\n"
     ]
    }
   ],
   "source": [
    "import csv\n",
    "\n",
    "with open('predictions.csv', 'w') as f:\n",
    "    csvwriter = csv.writer(f)\n",
    "    csvwriter.writerow(['Id', 'task_1', 'task_2'])\n",
    "    for path in tqdm_notebook(sorted(test_files)):\n",
    "        tensor = preprocess_input(get_tensor(path))\n",
    "        pred = model.predict(resnet50.predict(tensor))[0]\n",
    "        csvwriter.writerow([path, pred[0], pred[2]])"
   ]
  },
  {
   "cell_type": "markdown",
   "metadata": {},
   "source": [
    "# The End"
   ]
  }
 ],
 "metadata": {
  "kernelspec": {
   "display_name": "Python 3",
   "language": "python",
   "name": "python3"
  },
  "language_info": {
   "codemirror_mode": {
    "name": "ipython",
    "version": 3
   },
   "file_extension": ".py",
   "mimetype": "text/x-python",
   "name": "python",
   "nbconvert_exporter": "python",
   "pygments_lexer": "ipython3",
   "version": "3.5.2"
  }
 },
 "nbformat": 4,
 "nbformat_minor": 2
}
